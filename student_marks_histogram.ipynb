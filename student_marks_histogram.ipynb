{
 "cells": [
  {
   "cell_type": "code",
   "execution_count": 6,
   "id": "09bf3528",
   "metadata": {},
   "outputs": [
    {
     "name": "stdout",
     "output_type": "stream",
     "text": [
      "Enter student marks (0-100). Type 'done' when finished.\n",
      "Enter a mark (or 'done' to finish): 87\n",
      "Enter a mark (or 'done' to finish): 75\n",
      "Enter a mark (or 'done' to finish): 89\n",
      "Enter a mark (or 'done' to finish): 71\n",
      "Enter a mark (or 'done' to finish): 93\n",
      "Enter a mark (or 'done' to finish): 56\n",
      "Enter a mark (or 'done' to finish): 67\n",
      "Enter a mark (or 'done' to finish): 34\n",
      "Enter a mark (or 'done' to finish): 66\n",
      "Enter a mark (or 'done' to finish): 61\n",
      "Enter a mark (or 'done' to finish): 54\n",
      "Enter a mark (or 'done' to finish): 46\n",
      "Enter a mark (or 'done' to finish): 49\n",
      "Enter a mark (or 'done' to finish): 57\n",
      "Enter a mark (or 'done' to finish): 88\n",
      "Enter a mark (or 'done' to finish): 99\n",
      "Enter a mark (or 'done' to finish): 74\n",
      "Enter a mark (or 'done' to finish): 65\n",
      "Enter a mark (or 'done' to finish): 51\n",
      "Enter a mark (or 'done' to finish): 61\n",
      "Enter a mark (or 'done' to finish): 68\n",
      "Enter a mark (or 'done' to finish): 105\n",
      "Mark must be between 0 and 100.\n",
      "Enter a mark (or 'done' to finish): 125\n",
      "Mark must be between 0 and 100.\n",
      "Enter a mark (or 'done' to finish): 25\n",
      "Enter a mark (or 'done' to finish): 35\n",
      "Enter a mark (or 'done' to finish): 49\n",
      "Enter a mark (or 'done' to finish): 15\n",
      "Enter a mark (or 'done' to finish): 100\n",
      "Enter a mark (or 'done' to finish): 84\n",
      "Enter a mark (or 'done' to finish): 81\n",
      "Enter a mark (or 'done' to finish): 62\n",
      "Enter a mark (or 'done' to finish): 64\n",
      "Enter a mark (or 'done' to finish): 59\n",
      "Enter a mark (or 'done' to finish): 69\n",
      "Enter a mark (or 'done' to finish): 82\n",
      "Enter a mark (or 'done' to finish): 92\n",
      "Enter a mark (or 'done' to finish): 55\n",
      "Enter a mark (or 'done' to finish): 66\n",
      "Enter a mark (or 'done' to finish): done\n",
      "\n",
      "Histogram saved as 'student_marks_histogram.png'\n"
     ]
    },
    {
     "data": {
      "image/png": "[encoded data removed]",
      "text/plain": [
       "<Figure size 640x480 with 1 Axes>"
      ]
     },
     "metadata": {},
     "output_type": "display_data"
    }
   ],
   "source": [
    "# GUVI HCL Project 2\n",
    "# student_marks_histogram\n",
    "\n",
    "import matplotlib.pyplot as plt\n",
    "\n",
    "# Input from user\n",
    "print(\"Enter student marks (0-100). Type 'done' when finished.\")\n",
    "marks = []\n",
    "while True:\n",
    "    mark = input(\"Enter a mark (or 'done' to finish): \")\n",
    "    if mark.lower() == 'done':\n",
    "        break\n",
    "    try:\n",
    "        mark_value = float(mark)\n",
    "        if 0 <= mark_value <= 100:\n",
    "            marks.append(mark_value)\n",
    "        else:\n",
    "            print(\"Mark must be between 0 and 100.\")\n",
    "            continue\n",
    "    except ValueError:\n",
    "        print(\"Invalid input. Enter a number or 'done'.\")\n",
    "        continue\n",
    "\n",
    "# Check marks list empty or not\n",
    "if not marks:\n",
    "    print(\"Error: No valid marks provided. Please enter at least one valid mark.\")\n",
    "    exit()\n",
    "\n",
    "# Bin Ranges (0-10, 10-20, ..., 90-100)\n",
    "bins = [0, 10, 20, 30, 40, 50, 60, 70, 80, 90, 100]\n",
    "\n",
    "# Histogram\n",
    "plt.hist(marks, bins=bins, edgecolor='black', color='yellow')\n",
    "\n",
    "# Labels and Title\n",
    "plt.xlabel('Marks Range')\n",
    "plt.ylabel('Number of Students')\n",
    "plt.title('Distribution of Student Marks')\n",
    "\n",
    "# Grid lines\n",
    "plt.grid(True, alpha=0.3)\n",
    "\n",
    "# Saving the plot\n",
    "plt.savefig('student_marks_histogram.png')\n",
    "print(\"\\nHistogram saved as 'student_marks_histogram.png'\")\n",
    "\n",
    "# Display the plot\n",
    "plt.show()"
   ]
  },
  {
   "cell_type": "code",
   "execution_count": null,
   "id": "4a28d141",
   "metadata": {},
   "outputs": [],
   "source": []
  }
 ],
 "metadata": {
  "kernelspec": {
   "display_name": "Python 3 (ipykernel)",
   "language": "python",
   "name": "python3"
  },
  "language_info": {
   "codemirror_mode": {
    "name": "ipython",
    "version": 3
   },
   "file_extension": ".py",
   "mimetype": "text/x-python",
   "name": "python",
   "nbconvert_exporter": "python",
   "pygments_lexer": "ipython3",
   "version": "3.11.5"
  }
 },
 "nbformat": 4,
 "nbformat_minor": 5
}
